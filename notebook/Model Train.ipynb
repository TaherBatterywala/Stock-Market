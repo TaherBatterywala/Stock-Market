{
 "cells": [
  {
   "cell_type": "code",
   "execution_count": 89,
   "id": "5327dff3",
   "metadata": {},
   "outputs": [],
   "source": [
    "# Basic Import\n",
    "import numpy as np\n",
    "import pandas as pd\n",
    "import matplotlib.pyplot as plt \n",
    "import seaborn as sns\n",
    "import pandas_ta as ta\n",
    "#Data Import\n",
    "import yfinance as yf\n",
    "# Modelling\n",
    "from sklearn.metrics import mean_squared_error, r2_score\n",
    "from sklearn.neighbors import KNeighborsRegressor\n",
    "from sklearn.tree import DecisionTreeRegressor\n",
    "from sklearn.ensemble import RandomForestRegressor,AdaBoostRegressor\n",
    "from sklearn.svm import SVR\n",
    "from sklearn.linear_model import LinearRegression, Ridge,Lasso\n",
    "from sklearn.metrics import r2_score, mean_absolute_error, mean_squared_error\n",
    "from sklearn.model_selection import RandomizedSearchCV\n",
    "from catboost import CatBoostRegressor\n",
    "from xgboost import XGBRegressor\n",
    "import warnings\n",
    "warnings.filterwarnings('ignore')"
   ]
  },
  {
   "cell_type": "code",
   "execution_count": 90,
   "id": "f3546b24",
   "metadata": {},
   "outputs": [],
   "source": [
    "# Data Download \n",
    "ticker_symbol = '^NSEI'\n",
    "df = yf.download(ticker_symbol, period='max', progress=False)"
   ]
  },
  {
   "cell_type": "code",
   "execution_count": 91,
   "id": "8e93ccc0",
   "metadata": {},
   "outputs": [
    {
     "data": {
      "text/html": [
       "<div>\n",
       "<style scoped>\n",
       "    .dataframe tbody tr th:only-of-type {\n",
       "        vertical-align: middle;\n",
       "    }\n",
       "\n",
       "    .dataframe tbody tr th {\n",
       "        vertical-align: top;\n",
       "    }\n",
       "\n",
       "    .dataframe thead tr th {\n",
       "        text-align: left;\n",
       "    }\n",
       "\n",
       "    .dataframe thead tr:last-of-type th {\n",
       "        text-align: right;\n",
       "    }\n",
       "</style>\n",
       "<table border=\"1\" class=\"dataframe\">\n",
       "  <thead>\n",
       "    <tr>\n",
       "      <th>Price</th>\n",
       "      <th>Close</th>\n",
       "      <th>High</th>\n",
       "      <th>Low</th>\n",
       "      <th>Open</th>\n",
       "      <th>Volume</th>\n",
       "    </tr>\n",
       "    <tr>\n",
       "      <th>Ticker</th>\n",
       "      <th>^NSEI</th>\n",
       "      <th>^NSEI</th>\n",
       "      <th>^NSEI</th>\n",
       "      <th>^NSEI</th>\n",
       "      <th>^NSEI</th>\n",
       "    </tr>\n",
       "    <tr>\n",
       "      <th>Date</th>\n",
       "      <th></th>\n",
       "      <th></th>\n",
       "      <th></th>\n",
       "      <th></th>\n",
       "      <th></th>\n",
       "    </tr>\n",
       "  </thead>\n",
       "  <tbody>\n",
       "    <tr>\n",
       "      <th>2007-09-17</th>\n",
       "      <td>4494.649902</td>\n",
       "      <td>4549.049805</td>\n",
       "      <td>4482.850098</td>\n",
       "      <td>4518.450195</td>\n",
       "      <td>0</td>\n",
       "    </tr>\n",
       "    <tr>\n",
       "      <th>2007-09-18</th>\n",
       "      <td>4546.200195</td>\n",
       "      <td>4551.799805</td>\n",
       "      <td>4481.549805</td>\n",
       "      <td>4494.100098</td>\n",
       "      <td>0</td>\n",
       "    </tr>\n",
       "    <tr>\n",
       "      <th>2007-09-19</th>\n",
       "      <td>4732.350098</td>\n",
       "      <td>4739.000000</td>\n",
       "      <td>4550.250000</td>\n",
       "      <td>4550.250000</td>\n",
       "      <td>0</td>\n",
       "    </tr>\n",
       "    <tr>\n",
       "      <th>2007-09-20</th>\n",
       "      <td>4747.549805</td>\n",
       "      <td>4760.850098</td>\n",
       "      <td>4721.149902</td>\n",
       "      <td>4734.850098</td>\n",
       "      <td>0</td>\n",
       "    </tr>\n",
       "    <tr>\n",
       "      <th>2007-09-21</th>\n",
       "      <td>4837.549805</td>\n",
       "      <td>4855.700195</td>\n",
       "      <td>4733.700195</td>\n",
       "      <td>4752.950195</td>\n",
       "      <td>0</td>\n",
       "    </tr>\n",
       "  </tbody>\n",
       "</table>\n",
       "</div>"
      ],
      "text/plain": [
       "Price             Close         High          Low         Open Volume\n",
       "Ticker            ^NSEI        ^NSEI        ^NSEI        ^NSEI  ^NSEI\n",
       "Date                                                                 \n",
       "2007-09-17  4494.649902  4549.049805  4482.850098  4518.450195      0\n",
       "2007-09-18  4546.200195  4551.799805  4481.549805  4494.100098      0\n",
       "2007-09-19  4732.350098  4739.000000  4550.250000  4550.250000      0\n",
       "2007-09-20  4747.549805  4760.850098  4721.149902  4734.850098      0\n",
       "2007-09-21  4837.549805  4855.700195  4733.700195  4752.950195      0"
      ]
     },
     "execution_count": 91,
     "metadata": {},
     "output_type": "execute_result"
    }
   ],
   "source": [
    "df.head()"
   ]
  },
  {
   "cell_type": "code",
   "execution_count": 92,
   "id": "55f9e94d",
   "metadata": {},
   "outputs": [],
   "source": [
    "## Copy of Dataframe to work in\n",
    "df_modified = df.copy()"
   ]
  },
  {
   "cell_type": "code",
   "execution_count": 93,
   "id": "9e404f78",
   "metadata": {},
   "outputs": [],
   "source": [
    "# We flatten the columns to ensure they are simple and single-level.\n",
    "if isinstance(df_modified.columns, pd.MultiIndex):\n",
    "    df_modified.columns = df_modified.columns.get_level_values(0)\n",
    "else:\n",
    "    print(\"Columns are already single-level. No flattening needed.\")"
   ]
  },
  {
   "cell_type": "code",
   "execution_count": 94,
   "id": "72db817b",
   "metadata": {},
   "outputs": [],
   "source": [
    "# Add all engineered features to the modified DataFrame\n",
    "\n",
    "df_modified['Daily Return'] = df_modified['Close'].pct_change()\n",
    "df_modified['MA50'] = df_modified['Close'].rolling(window=50).mean()\n",
    "df_modified['MA200'] = df_modified['Close'].rolling(window=200).mean()\n",
    "df_modified['RSI'] = ta.rsi(df_modified['Close'], length=14)\n"
   ]
  },
  {
   "cell_type": "code",
   "execution_count": 95,
   "id": "21788db0",
   "metadata": {},
   "outputs": [
    {
     "data": {
      "text/html": [
       "<div>\n",
       "<style scoped>\n",
       "    .dataframe tbody tr th:only-of-type {\n",
       "        vertical-align: middle;\n",
       "    }\n",
       "\n",
       "    .dataframe tbody tr th {\n",
       "        vertical-align: top;\n",
       "    }\n",
       "\n",
       "    .dataframe thead th {\n",
       "        text-align: right;\n",
       "    }\n",
       "</style>\n",
       "<table border=\"1\" class=\"dataframe\">\n",
       "  <thead>\n",
       "    <tr style=\"text-align: right;\">\n",
       "      <th>Price</th>\n",
       "      <th>Close</th>\n",
       "      <th>High</th>\n",
       "      <th>Low</th>\n",
       "      <th>Open</th>\n",
       "      <th>Volume</th>\n",
       "      <th>Daily Return</th>\n",
       "      <th>MA50</th>\n",
       "      <th>MA200</th>\n",
       "      <th>RSI</th>\n",
       "    </tr>\n",
       "    <tr>\n",
       "      <th>Date</th>\n",
       "      <th></th>\n",
       "      <th></th>\n",
       "      <th></th>\n",
       "      <th></th>\n",
       "      <th></th>\n",
       "      <th></th>\n",
       "      <th></th>\n",
       "      <th></th>\n",
       "      <th></th>\n",
       "    </tr>\n",
       "  </thead>\n",
       "  <tbody>\n",
       "    <tr>\n",
       "      <th>2025-07-31</th>\n",
       "      <td>24768.349609</td>\n",
       "      <td>24956.500000</td>\n",
       "      <td>24635.000000</td>\n",
       "      <td>24642.250000</td>\n",
       "      <td>346300</td>\n",
       "      <td>-0.003488</td>\n",
       "      <td>25057.622070</td>\n",
       "      <td>24053.279277</td>\n",
       "      <td>40.914833</td>\n",
       "    </tr>\n",
       "    <tr>\n",
       "      <th>2025-08-01</th>\n",
       "      <td>24565.349609</td>\n",
       "      <td>24784.150391</td>\n",
       "      <td>24535.050781</td>\n",
       "      <td>24734.900391</td>\n",
       "      <td>263400</td>\n",
       "      <td>-0.008196</td>\n",
       "      <td>25051.866055</td>\n",
       "      <td>24050.466279</td>\n",
       "      <td>36.006905</td>\n",
       "    </tr>\n",
       "    <tr>\n",
       "      <th>2025-08-04</th>\n",
       "      <td>24722.750000</td>\n",
       "      <td>24736.250000</td>\n",
       "      <td>24554.000000</td>\n",
       "      <td>24596.050781</td>\n",
       "      <td>259300</td>\n",
       "      <td>0.006407</td>\n",
       "      <td>25046.298047</td>\n",
       "      <td>24048.793281</td>\n",
       "      <td>41.833134</td>\n",
       "    </tr>\n",
       "    <tr>\n",
       "      <th>2025-08-05</th>\n",
       "      <td>24649.550781</td>\n",
       "      <td>24733.099609</td>\n",
       "      <td>24590.300781</td>\n",
       "      <td>24720.250000</td>\n",
       "      <td>251800</td>\n",
       "      <td>-0.002961</td>\n",
       "      <td>25042.765078</td>\n",
       "      <td>24047.184531</td>\n",
       "      <td>40.008836</td>\n",
       "    </tr>\n",
       "    <tr>\n",
       "      <th>2025-08-06</th>\n",
       "      <td>24574.199219</td>\n",
       "      <td>24671.400391</td>\n",
       "      <td>24539.199219</td>\n",
       "      <td>24641.349609</td>\n",
       "      <td>0</td>\n",
       "      <td>-0.003057</td>\n",
       "      <td>25039.200078</td>\n",
       "      <td>24046.306279</td>\n",
       "      <td>38.163831</td>\n",
       "    </tr>\n",
       "  </tbody>\n",
       "</table>\n",
       "</div>"
      ],
      "text/plain": [
       "Price              Close          High           Low          Open  Volume  \\\n",
       "Date                                                                         \n",
       "2025-07-31  24768.349609  24956.500000  24635.000000  24642.250000  346300   \n",
       "2025-08-01  24565.349609  24784.150391  24535.050781  24734.900391  263400   \n",
       "2025-08-04  24722.750000  24736.250000  24554.000000  24596.050781  259300   \n",
       "2025-08-05  24649.550781  24733.099609  24590.300781  24720.250000  251800   \n",
       "2025-08-06  24574.199219  24671.400391  24539.199219  24641.349609       0   \n",
       "\n",
       "Price       Daily Return          MA50         MA200        RSI  \n",
       "Date                                                             \n",
       "2025-07-31     -0.003488  25057.622070  24053.279277  40.914833  \n",
       "2025-08-01     -0.008196  25051.866055  24050.466279  36.006905  \n",
       "2025-08-04      0.006407  25046.298047  24048.793281  41.833134  \n",
       "2025-08-05     -0.002961  25042.765078  24047.184531  40.008836  \n",
       "2025-08-06     -0.003057  25039.200078  24046.306279  38.163831  "
      ]
     },
     "execution_count": 95,
     "metadata": {},
     "output_type": "execute_result"
    }
   ],
   "source": [
    "df_modified.tail()"
   ]
  },
  {
   "cell_type": "code",
   "execution_count": 96,
   "id": "f4ccef0a",
   "metadata": {},
   "outputs": [
    {
     "data": {
      "text/plain": [
       "Price\n",
       "Close             0\n",
       "High              0\n",
       "Low               0\n",
       "Open              0\n",
       "Volume            0\n",
       "Daily Return      1\n",
       "MA50             49\n",
       "MA200           199\n",
       "RSI              14\n",
       "dtype: int64"
      ]
     },
     "execution_count": 96,
     "metadata": {},
     "output_type": "execute_result"
    }
   ],
   "source": [
    "# Check how many missing (NaN) values are in each column\n",
    "\n",
    "df_modified.isnull().sum()"
   ]
  },
  {
   "cell_type": "code",
   "execution_count": 97,
   "id": "47137fa9",
   "metadata": {},
   "outputs": [
    {
     "data": {
      "text/plain": [
       "(4388, 9)"
      ]
     },
     "execution_count": 97,
     "metadata": {},
     "output_type": "execute_result"
    }
   ],
   "source": [
    "# shape before dropping nan value\n",
    "df_modified.shape"
   ]
  },
  {
   "cell_type": "code",
   "execution_count": 98,
   "id": "407455ab",
   "metadata": {},
   "outputs": [],
   "source": [
    "# Drop rows with any NaN values directly from df_modified\n",
    "df_modified.dropna(inplace=True)"
   ]
  },
  {
   "cell_type": "code",
   "execution_count": 99,
   "id": "890bc018",
   "metadata": {},
   "outputs": [
    {
     "data": {
      "text/plain": [
       "(4189, 9)"
      ]
     },
     "execution_count": 99,
     "metadata": {},
     "output_type": "execute_result"
    }
   ],
   "source": [
    "# shape after dropping \n",
    "df_modified.shape"
   ]
  },
  {
   "cell_type": "markdown",
   "id": "12852f29",
   "metadata": {},
   "source": [
    "#### Preparing X and Y variables"
   ]
  },
  {
   "cell_type": "code",
   "execution_count": null,
   "id": "36504575",
   "metadata": {},
   "outputs": [],
   "source": []
  },
  {
   "cell_type": "code",
   "execution_count": null,
   "id": "48ecdb28",
   "metadata": {},
   "outputs": [],
   "source": []
  },
  {
   "cell_type": "code",
   "execution_count": null,
   "id": "a0be2e85",
   "metadata": {},
   "outputs": [],
   "source": []
  },
  {
   "cell_type": "code",
   "execution_count": null,
   "id": "179df29a",
   "metadata": {},
   "outputs": [],
   "source": []
  },
  {
   "cell_type": "code",
   "execution_count": null,
   "id": "5c105cc4",
   "metadata": {},
   "outputs": [],
   "source": []
  },
  {
   "cell_type": "code",
   "execution_count": null,
   "id": "75d68ed6",
   "metadata": {},
   "outputs": [],
   "source": []
  },
  {
   "cell_type": "code",
   "execution_count": null,
   "id": "8db0aa09",
   "metadata": {},
   "outputs": [],
   "source": []
  },
  {
   "cell_type": "code",
   "execution_count": null,
   "id": "71a8dacd",
   "metadata": {},
   "outputs": [],
   "source": []
  },
  {
   "cell_type": "code",
   "execution_count": null,
   "id": "ba04cd33",
   "metadata": {},
   "outputs": [],
   "source": []
  },
  {
   "cell_type": "code",
   "execution_count": null,
   "id": "552a096f",
   "metadata": {},
   "outputs": [],
   "source": []
  },
  {
   "cell_type": "code",
   "execution_count": null,
   "id": "a000e995",
   "metadata": {},
   "outputs": [],
   "source": []
  },
  {
   "cell_type": "code",
   "execution_count": null,
   "id": "72de514a",
   "metadata": {},
   "outputs": [],
   "source": []
  }
 ],
 "metadata": {
  "kernelspec": {
   "display_name": "Python 3",
   "language": "python",
   "name": "python3"
  },
  "language_info": {
   "codemirror_mode": {
    "name": "ipython",
    "version": 3
   },
   "file_extension": ".py",
   "mimetype": "text/x-python",
   "name": "python",
   "nbconvert_exporter": "python",
   "pygments_lexer": "ipython3",
   "version": "3.11.5"
  }
 },
 "nbformat": 4,
 "nbformat_minor": 5
}
